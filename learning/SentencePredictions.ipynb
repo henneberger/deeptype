{
 "cells": [
  {
   "cell_type": "code",
   "execution_count": 1,
   "metadata": {},
   "outputs": [
    {
     "name": "stderr",
     "output_type": "stream",
     "text": [
      "/usr/local/lib/python3.6/site-packages/h5py/__init__.py:36: FutureWarning: Conversion of the second argument of issubdtype from `float` to `np.floating` is deprecated. In future, it will be treated as `np.float64 == np.dtype(float).type`.\n",
      "  from ._conv import register_converters as _register_converters\n"
     ]
    }
   ],
   "source": [
    "import train_type as tp\n",
    "import tensorflow as tf\n",
    "import numpy as np"
   ]
  },
  {
   "cell_type": "code",
   "execution_count": 2,
   "metadata": {},
   "outputs": [],
   "source": [
    "# function to get probabilities given a sentence split\n",
    "def get_prob(tagger_ins,sentence_splits):\n",
    "    ps = tagger_ins.predict_proba_sentences([sentence_splits])\n",
    "    output = [i for i in ps]\n",
    "    probs = output[0]['type']\n",
    "    return probs[0]"
   ]
  },
  {
   "cell_type": "markdown",
   "metadata": {},
   "source": [
    "# Load all tags\n",
    "(if you have multiple classifiers, read each classes.txt separetely and append to tags)"
   ]
  },
  {
   "cell_type": "code",
   "execution_count": 3,
   "metadata": {},
   "outputs": [
    {
     "data": {
      "text/plain": [
       "['aaa_no_instance_subclass_or_link',\n",
       " 'aaa_wikidata_prop',\n",
       " 'aaa_wikimedia_category_page',\n",
       " 'aaa_wikipedia_disambiguation',\n",
       " 'aaa_wikipedia_list',\n",
       " 'aaa_wikipedia_project_page',\n",
       " 'aaa_wikipedia_template_namespace',\n",
       " 'aaa_wikipedia_user_language_template',\n",
       " 'activity',\n",
       " 'aircraft',\n",
       " 'airport',\n",
       " 'algorithm',\n",
       " 'alphabet',\n",
       " 'anatomical_structure',\n",
       " 'astronomical_object',\n",
       " 'audio_visual_work',\n",
       " 'award',\n",
       " 'award_ceremony',\n",
       " 'battle',\n",
       " 'book_magazine_article',\n",
       " 'brand',\n",
       " 'bridge',\n",
       " 'character',\n",
       " 'chemical_compound',\n",
       " 'clothing',\n",
       " 'color',\n",
       " 'concept',\n",
       " 'country',\n",
       " 'crime',\n",
       " 'currency',\n",
       " 'data_format',\n",
       " 'date',\n",
       " 'developmental_biology_period',\n",
       " 'disease',\n",
       " 'electromagnetic_wave',\n",
       " 'event',\n",
       " 'facility',\n",
       " 'family',\n",
       " 'fictional_character',\n",
       " 'food',\n",
       " 'gas',\n",
       " 'gene',\n",
       " 'genre',\n",
       " 'geographical_object',\n",
       " 'geometric_shape',\n",
       " 'hazard',\n",
       " 'human',\n",
       " 'human_female',\n",
       " 'human_male',\n",
       " 'international_relations',\n",
       " 'kinship',\n",
       " 'lake',\n",
       " 'language',\n",
       " 'law',\n",
       " 'legal_action',\n",
       " 'legal_case',\n",
       " 'legislative_term',\n",
       " 'mathematical_object',\n",
       " 'mind',\n",
       " 'molecule',\n",
       " 'monument',\n",
       " 'mountain',\n",
       " 'musical_work',\n",
       " 'name',\n",
       " 'natural_phenomenon',\n",
       " 'number',\n",
       " 'organization',\n",
       " 'other_art_work',\n",
       " 'people',\n",
       " 'person_role',\n",
       " 'physical_object',\n",
       " 'physical_quantity',\n",
       " 'plant',\n",
       " 'populated_place',\n",
       " 'position',\n",
       " 'postal_code',\n",
       " 'radio_program',\n",
       " 'railroad',\n",
       " 'record_chart',\n",
       " 'region',\n",
       " 'religion',\n",
       " 'research',\n",
       " 'river',\n",
       " 'road_vehicle',\n",
       " 'sea',\n",
       " 'sex_toy',\n",
       " 'sexual_orientation',\n",
       " 'software',\n",
       " 'song',\n",
       " 'speech',\n",
       " 'sport',\n",
       " 'sport_event',\n",
       " 'sports_terminology',\n",
       " 'strategy',\n",
       " 'taxon',\n",
       " 'taxonomic_rank',\n",
       " 'title',\n",
       " 'train_station',\n",
       " 'union',\n",
       " 'unit_of_mass',\n",
       " 'value',\n",
       " 'vehicle',\n",
       " 'vehicle_brand',\n",
       " 'volcano',\n",
       " 'war',\n",
       " 'watercraft',\n",
       " 'weapon',\n",
       " 'website',\n",
       " 'other']"
      ]
     },
     "execution_count": 3,
     "metadata": {},
     "output_type": "execute_result"
    }
   ],
   "source": [
    "# load all tags (if you have multiple classifiers read each classes.txt separetely and append to tags)\n",
    "tags = open('/Users/henneberger/GitProjects/deeptype/best/classes.txt').readlines()\n",
    "tags = [t.replace(\"\\n\",\"\") for t in tags]\n",
    "tags"
   ]
  },
  {
   "cell_type": "markdown",
   "metadata": {},
   "source": [
    "# Load the LSTM Model \n",
    "Make sure you have sufficient memory in GPU, if you are using GPU"
   ]
  },
  {
   "cell_type": "code",
   "execution_count": 4,
   "metadata": {},
   "outputs": [
    {
     "name": "stdout",
     "output_type": "stream",
     "text": [
      "INFO:tensorflow:Restoring parameters from /Users/henneberger/GitProjects/deeptype/best/model.ckpt\n"
     ]
    }
   ],
   "source": [
    "tagger = tp.SequenceTagger('/Users/henneberger/GitProjects/deeptype/best')"
   ]
  },
  {
   "cell_type": "markdown",
   "metadata": {},
   "source": [
    "# Get probabilities for a sentence \n",
    "outputs probability vector for each word in a sentence, of size N*tags, \n",
    "where N is the number of words in the sentence and tags is the number of tags"
   ]
  },
  {
   "cell_type": "code",
   "execution_count": 5,
   "metadata": {},
   "outputs": [],
   "source": [
    "def test(sentence = \"Man saw a jaguar in the jungle\", threshold = 0.1):\n",
    "    sent_splits = sentence.split()\n",
    "    probs = get_prob(tagger,sent_splits)\n",
    "    probs.shape\n",
    "    for k,p in enumerate(probs):\n",
    "        print(\"{} \\t\".format(sent_splits[k]), end='')\n",
    "        print([(tags[k],p[k]) for k in np.where(p>threshold)[0]])"
   ]
  },
  {
   "cell_type": "code",
   "execution_count": 6,
   "metadata": {},
   "outputs": [
    {
     "name": "stdout",
     "output_type": "stream",
     "text": [
      "The \t[('organization', 0.4169077), ('other', 0.25732648)]\n",
      "Fire \t[('organization', 0.4143034), ('other', 0.31463882)]\n",
      "Fighter \t[('organization', 0.5467729), ('other', 0.30657434)]\n",
      "received \t[('award', 0.8460518)]\n",
      "decorations \t[('award', 0.8498061)]\n",
      "of \t[('award', 0.49838743), ('other', 0.16215862)]\n",
      "honor \t[('award', 0.30788407), ('organization', 0.14114712), ('other', 0.16100332)]\n"
     ]
    }
   ],
   "source": [
    "test(\"The Fire Fighter received decorations of honor\")"
   ]
  },
  {
   "cell_type": "code",
   "execution_count": 7,
   "metadata": {},
   "outputs": [
    {
     "name": "stdout",
     "output_type": "stream",
     "text": [
      "The \t[('other', 0.38616002)]\n",
      "fire \t[('hazard', 0.23170985), ('other', 0.40622544)]\n",
      "incenerated \t[('other', 0.45539594)]\n",
      "the \t[('other', 0.46942964)]\n",
      "DIY \t[('activity', 0.1459636), ('other', 0.49732828)]\n",
      "crafts \t[('activity', 0.12541743), ('other', 0.44309494)]\n",
      "and \t[('other', 0.4049184)]\n",
      "decorations \t[('other', 0.39279196)]\n"
     ]
    }
   ],
   "source": [
    "test(\"The fire incenerated the DIY crafts and decorations\")"
   ]
  }
 ],
 "metadata": {
  "kernelspec": {
   "display_name": "Python 3",
   "language": "python",
   "name": "python3"
  },
  "language_info": {
   "codemirror_mode": {
    "name": "ipython",
    "version": 3
   },
   "file_extension": ".py",
   "mimetype": "text/x-python",
   "name": "python",
   "nbconvert_exporter": "python",
   "pygments_lexer": "ipython3",
   "version": "3.6.5"
  }
 },
 "nbformat": 4,
 "nbformat_minor": 2
}
